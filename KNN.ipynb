{
 "cells": [
  {
   "cell_type": "code",
   "execution_count": 17,
   "metadata": {},
   "outputs": [],
   "source": [
    "import numpy as np\n",
    "import pandas as pd\n",
    "import scipy.stats\n",
    "import math\n",
    "from collections import Counter"
   ]
  },
  {
   "cell_type": "code",
   "execution_count": 18,
   "metadata": {},
   "outputs": [
    {
     "data": {
      "text/plain": [
       "(149, 5)"
      ]
     },
     "execution_count": 18,
     "metadata": {},
     "output_type": "execute_result"
    }
   ],
   "source": [
    "#Read the iris dataset file here\n",
    "data=pd.read_csv(\"iris.data\")\n",
    "data.columns=['SepalLength','SepalWidth','PetalLength','PetalWidth','Class']\n",
    "data.describe()\n",
    "data.shape"
   ]
  },
  {
   "cell_type": "code",
   "execution_count": 19,
   "metadata": {},
   "outputs": [],
   "source": [
    "class KNN():\n",
    "\n",
    "    X_train=0\n",
    "    Y_train=0\n",
    "    test_size=45\n",
    "    k=0\n",
    "    def __init__(self, k, scalefeatures=False):        \n",
    "        self.k=k\n",
    "    def fit(self, X, y):\n",
    "        self.X_train = X\n",
    "        self.Y_train = y\n",
    "\n",
    "    def predict(self, X):\n",
    "        y_pred = [self._predict(x) for x in X]\n",
    "        return np.array(y_pred)\n",
    "\n",
    "    def _predict(self, x):\n",
    "        # Compute distances between x and all examples in the training set\n",
    "        distances = [Compute_distances(x, x_train) for x_train in self.X_train]\n",
    "        # Sort by distance and return indices of the first k neighbors\n",
    "        k_idx = np.argsort(distances)[:self.k]\n",
    "        # Extract the labels of the k nearest neighbor training samples\n",
    "        k_neighbor_labels = [self.Y_train[i] for i in k_idx]  \n",
    "        # return the most common class label\n",
    "        most_common = Counter(k_neighbor_labels).most_common(1)\n",
    "        \n",
    "        pclass=most_common[0][0]\n",
    "        \n",
    "        return pclass\n",
    "    \n",
    "\n",
    "def Compute_distances(x1,x2):\n",
    "    dists = np.sqrt(np.sum((x1 - x2)**2))\n",
    "    \"\"\"\n",
    "     Compute the distance between each test point in X and each training point\n",
    "     in self.X_train using a single loop over the test data.\n",
    "     Input: An num_test x dimension array where each row is a test point.\n",
    "     A num_test x num_train array where dists[i, j] is the distance\n",
    "     between the ith test point and the jth training point.\n",
    "    \"\"\"\n",
    "    return dists"
   ]
  },
  {
   "cell_type": "code",
   "execution_count": 20,
   "metadata": {},
   "outputs": [
    {
     "name": "stdout",
     "output_type": "stream",
     "text": [
      " Training Data Set Dimensions = (104, 4) Training True Class labels dimensions : (104,)\n",
      " Test Data Set Dimensions = (45, 4) Test True Class labels dimensions : (104,)\n"
     ]
    }
   ],
   "source": [
    "# Spllit Data into train and test\n",
    "import Split as t\n",
    "import numpy as np\n",
    "X = data[['SepalLength','SepalWidth','PetalLength','PetalWidth']].values\n",
    "Y = data['Class'].values\n",
    "Xtrain,Ytrain,Xtest,Ytest=t.split_data(X,Y)\n",
    "print (\" Training Data Set Dimensions =\", Xtrain.shape, \"Training True Class labels dimensions :\", Ytrain.shape)   \n",
    "print (\" Test Data Set Dimensions =\", Xtest.shape, \"Test True Class labels dimensions :\", Ytrain.shape) \n"
   ]
  },
  {
   "cell_type": "code",
   "execution_count": 21,
   "metadata": {},
   "outputs": [],
   "source": [
    "# Build a 3-nearest neighbour classifier...\n",
    "k = 3\n",
    "classifier = KNN(k=k)\n",
    "# This is used for learning the parameters of KNN\n",
    "classifier.fit(Xtrain, Ytrain)\n",
    "predictions = classifier.predict(Xtest)"
   ]
  },
  {
   "cell_type": "code",
   "execution_count": 22,
   "metadata": {},
   "outputs": [
    {
     "name": "stdout",
     "output_type": "stream",
     "text": [
      "KNN Accuracy 0.9555555555555556\n"
     ]
    }
   ],
   "source": [
    "#Check the accuracy on the test set..\n",
    "def accuracy(y_true, y_pred):\n",
    "    accuracy = np.sum(y_true == y_pred) / len(y_true)\n",
    "    return accuracy\n",
    "#this is the accuracy checker \n",
    "print(\"KNN Accuracy\", accuracy(Ytest, predictions))"
   ]
  }
 ],
 "metadata": {
  "kernelspec": {
   "display_name": "Python 3",
   "language": "python",
   "name": "python3"
  },
  "language_info": {
   "codemirror_mode": {
    "name": "ipython",
    "version": 3
   },
   "file_extension": ".py",
   "mimetype": "text/x-python",
   "name": "python",
   "nbconvert_exporter": "python",
   "pygments_lexer": "ipython3",
   "version": "3.7.6"
  },
  "varInspector": {
   "cols": {
    "lenName": 16,
    "lenType": 16,
    "lenVar": 40
   },
   "kernels_config": {
    "python": {
     "delete_cmd_postfix": "",
     "delete_cmd_prefix": "del ",
     "library": "var_list.py",
     "varRefreshCmd": "print(var_dic_list())"
    },
    "r": {
     "delete_cmd_postfix": ") ",
     "delete_cmd_prefix": "rm(",
     "library": "var_list.r",
     "varRefreshCmd": "cat(var_dic_list()) "
    }
   },
   "types_to_exclude": [
    "module",
    "function",
    "builtin_function_or_method",
    "instance",
    "_Feature"
   ],
   "window_display": false
  }
 },
 "nbformat": 4,
 "nbformat_minor": 4
}
